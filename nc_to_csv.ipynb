{
 "cells": [
  {
   "cell_type": "code",
   "execution_count": 4,
   "metadata": {},
   "outputs": [],
   "source": [
    "# load nc file\n",
    "\n",
    "import numpy as np\n",
    "import netCDF4 as nc\n",
    "\n",
    "\n",
    "input = \"download.nc\"\n",
    "\n",
    "# load nc file\n",
    "ncfile = nc.Dataset(input, 'r')\n",
    "# to csv longitudes and latitudes\n"
   ]
  },
  {
   "cell_type": "code",
   "execution_count": 5,
   "metadata": {},
   "outputs": [
    {
     "name": "stdout",
     "output_type": "stream",
     "text": [
      "dict_keys(['longitude', 'latitude', 'time', 'u10', 'v10', 'd2m', 't2m', 'msl', 'mwd', 'mwp', 'sst', 'swh', 'sp', 'tp'])\n"
     ]
    }
   ],
   "source": [
    "print(ncfile.variables.keys())"
   ]
  },
  {
   "cell_type": "code",
   "execution_count": null,
   "metadata": {},
   "outputs": [],
   "source": [
    "lons = ncfile.variables['longitude'][:]\n",
    "lats = ncfile.variables['latitude'][:]\n",
    "# to csv time\n",
    "time = ncfile.variables['time'][:]\n",
    "# to csv data"
   ]
  }
 ],
 "metadata": {
  "kernelspec": {
   "display_name": "cdsapi",
   "language": "python",
   "name": "python3"
  },
  "language_info": {
   "codemirror_mode": {
    "name": "ipython",
    "version": 3
   },
   "file_extension": ".py",
   "mimetype": "text/x-python",
   "name": "python",
   "nbconvert_exporter": "python",
   "pygments_lexer": "ipython3",
   "version": "3.10.13"
  }
 },
 "nbformat": 4,
 "nbformat_minor": 2
}
