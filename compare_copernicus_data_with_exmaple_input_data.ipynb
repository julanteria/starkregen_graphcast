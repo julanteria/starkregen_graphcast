{
 "cells": [
  {
   "cell_type": "code",
   "execution_count": null,
   "metadata": {},
   "outputs": [],
   "source": [
    "import numpy as np\n",
    "import netCDF4 as nc\n"
   ]
  },
  {
   "cell_type": "code",
   "execution_count": null,
   "metadata": {},
   "outputs": [],
   "source": [
    "# Prediction input from grpahtcast demo \n",
    "demo_input_path = \"/Users/jules/Documents/github/dont_know_wtf_starkregen_graphcast/data/datasets/source-era5_date-2022-01-01_res-0.25_levels-37_steps-01.nc\"\n",
    "demo_input_nc = nc.Dataset(demo_input_path, 'r')"
   ]
  },
  {
   "cell_type": "code",
   "execution_count": null,
   "metadata": {},
   "outputs": [],
   "source": [
    "print(demo_input_nc.variables.keys())"
   ]
  },
  {
   "cell_type": "code",
   "execution_count": null,
   "metadata": {},
   "outputs": [],
   "source": [
    "#dict_keys(['lon', 'land_sea_mask', 'lat', , '2m_temperature', 'mean_sea_level_pressure', '10m_v_component_of_wind', '10m_u_component_of_wind', 'total_precipitation_6hr', 'toa_incident_solar_radiation', 'temperature', 'geopotential', 'u_component_of_wind', 'v_component_of_wind', 'vertical_velocity', 'specific_humidity', 'datetime'])\n",
    "lons_demo = demo_input_nc.variables['lon'][:]\n",
    "lats_demo = demo_input_nc.variables['lat'][:]\n",
    "time_demo = demo_input_nc.variables['time'][:]\n",
    "lsm_demo = demo_input_nc.variables['land_sea_mask'][:]\n",
    "t2m_demo = demo_input_nc.variables['2m_temperature'][:]\n",
    "msl_demo = demo_input_nc.variables['mean_sea_level_pressure'][:]\n",
    "tp_demo = demo_input_nc.variables['total_precipitation_6hr'][:]\n",
    "tisr_demo = demo_input_nc.variables['toa_incident_solar_radiation'][:]\n",
    "z_demo = demo_input_nc.variables['geopotential'][:]\n",
    "u10_demo = demo_input_nc.variables['10m_u_component_of_wind'][:]\n",
    "v10_demo = demo_input_nc.variables['10m_v_component_of_wind'][:]"
   ]
  },
  {
   "cell_type": "code",
   "execution_count": null,
   "metadata": {},
   "outputs": [],
   "source": []
  },
  {
   "cell_type": "code",
   "execution_count": null,
   "metadata": {},
   "outputs": [],
   "source": [
    "# Prediction input from ESRI cds api\n",
    "esri_input_path = \"/Users/jules/Documents/github/starkregen_graphcast/possible_esri_data_for_prediction.nc\"\n",
    "esri_input_nc = nc.Dataset(esri_input_path, 'r')"
   ]
  },
  {
   "cell_type": "code",
   "execution_count": null,
   "metadata": {},
   "outputs": [],
   "source": [
    "print(esri_input_nc.variables.keys())"
   ]
  },
  {
   "cell_type": "code",
   "execution_count": null,
   "metadata": {},
   "outputs": [],
   "source": [
    "#dict_keys(['longitude', 'latitude', 'time', 'lsm', 't2m', 'msl', 'tp', 'tisr', 'z', 'u10n', 'u10', 'v10n', 'v10', 'u100', 'v100'])\n",
    "lons_esri = esri_input_nc.variables['longitude'][:]\n",
    "lats_esri = esri_input_nc.variables['latitude'][:]\n",
    "time_esri = esri_input_nc.variables['time'][:]\n",
    "lsm_esri = esri_input_nc.variables['lsm'][:]\n",
    "t2m_esri = esri_input_nc.variables['t2m'][:]\n",
    "msl_esri = esri_input_nc.variables['msl'][:]\n",
    "tp_esri = esri_input_nc.variables['tp'][:]\n",
    "tisr_esri = esri_input_nc.variables['tisr'][:]\n",
    "z_esri = esri_input_nc.variables['z'][:]\n",
    "#u10n_esri = esri_input_nc.variables['u10n'][:]\n",
    "u10_esri = esri_input_nc.variables['u10'][:]\n",
    "#v10n_esri = esri_input_nc.variables['v10n'][:]\n",
    "v10_esri = esri_input_nc.variables['v10'][:]\n",
    "#u100_esri = esri_input_nc.variables['u100'][:]\n",
    "#v100_esri = esri_input_nc.variables['v100'][:]\n",
    "\n",
    "#scheis mal auf neutral wind, n und 100\n"
   ]
  },
  {
   "cell_type": "code",
   "execution_count": null,
   "metadata": {},
   "outputs": [],
   "source": [
    "print(f\"Esri - lons: {lons_esri.shape}\")\n",
    "print(f\"Demo - lons: {lons_demo.shape}\")\n",
    "\n",
    "print(f\"Esri - lats: {lats_esri.shape}\")\n",
    "print(f\"Demo - lats: {lats_demo.shape}\")\n",
    "\n",
    "print(f\"Esri - time: {time_esri.shape}\")\n",
    "print(f\"Demo - time: {time_demo.shape}\")\n",
    "\n",
    "print(f\"Esri - lsm: {lsm_esri.shape}\")\n",
    "print(f\"Demo - lsm: {lsm_demo.shape}\")\n",
    "\n",
    "print(f\"Esri - t2m: {t2m_esri.shape}\")\n",
    "print(f\"Demo - t2m: {t2m_demo.shape}\")\n",
    "\n",
    "print(f\"Esri - msl: {msl_esri.shape}\")\n",
    "print(f\"Demo - msl: {msl_demo.shape}\")\n",
    "\n",
    "print(f\"Esri - tp: {tp_esri.shape}\")\n",
    "print(f\"Demo - tp: {tp_demo.shape}\")\n",
    "\n",
    "print(f\"Esri - tisr: {tisr_esri.shape}\")\n",
    "print(f\"Demo - tisr: {tisr_demo.shape}\")\n",
    "\n",
    "print(f\"Esri - z - geopot: {z_esri.shape}\")\n",
    "print(f\"Demo - z - geopot: {z_demo.shape}\")\n",
    "\n",
    "print(f\"Esri - u10: {u10_esri.shape}\")\n",
    "print(f\"Demo - u10: {u10_demo.shape}\")\n",
    "\n",
    "print(f\"Esri - v10: {v10_esri.shape}\")\n",
    "print(f\"Demo - v10: {v10_demo.shape}\")\n",
    "\n",
    "\n",
    "\"\"\"\n",
    "Longitude (lons) and Latitude (lats):\n",
    "Both formats have the same dimensions for lons and lats, so no change is needed.\n",
    "Time (time):\n",
    "ESRI has 24 time steps, while the demo has only 3. This could mean that the demo data is a subset or an aggregation of the ESRI data. You might need to aggregate or select specific time steps from the ESRI data to match the demo's 3 time steps.\n",
    "Land Sea Mask (lsm):\n",
    "ESRI: (24, 721, 1440)\n",
    "Demo: (721, 1440)\n",
    "The ESRI format includes a time dimension for lsm, which the demo format does not have. You might need to select a specific time step from the ESRI data or aggregate it over time.\n",
    "Variables (t2m, msl, tp, tisr, u10, v10):\n",
    "ESRI: (24, 721, 1440)\n",
    "Demo: (1, 3, 721, 1440)\n",
    "The demo format has an extra leading dimension of size 1 and a reduced time dimension. You might need to add a singleton dimension and then select or aggregate the time steps from the ESRI data.\n",
    "Geopotential (z - geopot):\n",
    "ESRI: (24, 721, 1440)\n",
    "Demo: (1, 3, 37, 721, 1440)\n",
    "In addition to the differences noted above, the demo format has an additional dimension (probably representing different levels in the atmosphere). You might need to add two dimensions (one singleton and one representing levels) to the ESRI data.\n",
    "\n",
    "\"\"\"\n"
   ]
  },
  {
   "cell_type": "code",
   "execution_count": null,
   "metadata": {},
   "outputs": [],
   "source": []
  },
  {
   "cell_type": "code",
   "execution_count": null,
   "metadata": {},
   "outputs": [],
   "source": [
    "\"\"\"\n",
    "lon (file 1) corresponds to longitude (file 2) - both represent the longitudinal coordinate.\n",
    "lat (file 1) corresponds to latitude (file 2) - both represent the latitudinal coordinate.\n",
    "time (file 1) is the same as time (file 2) - represents the time dimension.\n",
    "2m_temperature (file 1) likely corresponds to t2m (file 2) - both represent the temperature at 2 meters above ground.\n",
    "mean_sea_level_pressure (file 1) likely corresponds to msl (file 2) - both represent mean sea level pressure.\n",
    "total_precipitation_6hr (file 1) might correspond to tp (file 2) - both could represent total precipitation (note the possible difference in accumulation/integration time, i.e., 6hr in file 1).\n",
    "toa_incident_solar_radiation (file 1) likely corresponds to tisr (file 2) - both represent top-of-atmosphere incident solar radiation.\n",
    "geopotential (file 1) might correspond to z (file 2) - both could represent geopotential height, but it's worth verifying as z is quite generic.\n",
    "10m_u_component_of_wind (file 1) likely corresponds to u10 (file 2) - both represent the east-west (u) component of wind at 10 meters.\n",
    "10m_v_component_of_wind (file 1) likely corresponds to v10 (file 2) - both represent the north-south (v) component of wind at 10 meters.\n",
    "land_sea_mask (file 1) might correspond to lsm (file 2) - both could represent land-sea mask, but it's good to confirm.\n",
    "The other variables might also have corresponding counterparts but would require more context or metadata to confirm. Variables like u_component_of_wind and v_component_of_wind in file 1 might correspond to u100 and v100 in file 2 if they represent wind components at different altitudes, but that's speculative without more information. Additionally, geopotential_at_surface in file 1 doesn't have an obvious counterpart in file 2 based on the names alone. Always good to check the actual data or metadata for confirmation.\n",
    "\n",
    "\n",
    "\n",
    "# 1. Aggregate or select specific time steps (here, just selecting the first 3 time steps as an example)\n",
    "esri_t2m_selected_time = esri_data['t2m'][:3, :, :]\n",
    "\n",
    "# 2. Add a singleton dimension at the beginning\n",
    "esri_t2m_converted = np.expand_dims(esri_t2m_selected_time, axis=0)\n",
    "\n",
    "# 3. Assign the converted data back to a new dictionary or directly to your demo data structure\n",
    "converted_data = {}\n",
    "converted_data['t2m'] = esri_t2m_converted\n",
    "\n",
    "# Repeat similar steps for other variables, taking care of specific dimensional requirements\n",
    "\n",
    "\n",
    "converted_data['lsm'] = esri_data['lsm'][0, :, :]  # if 'lsm' doesn't vary with time\n",
    "\n",
    "\n",
    "\n",
    "\"\"\""
   ]
  },
  {
   "cell_type": "code",
   "execution_count": null,
   "metadata": {},
   "outputs": [],
   "source": [
    "# Function to compare the dimensions of two variables\n",
    "def compare_dimensions(var1, var2):\n",
    "    if var1.dimensions != var2.dimensions:\n",
    "        return False\n",
    "    for dim in var1.dimensions:\n",
    "        if var1.shape[var1.dimensions.index(dim)] != var2.shape[var2.dimensions.index(dim)]:\n",
    "            return False\n",
    "    return True"
   ]
  },
  {
   "cell_type": "code",
   "execution_count": null,
   "metadata": {},
   "outputs": [],
   "source": [
    "# Function to compare the frequency of two variables\n",
    "def compare_frequency(var1, var2):\n",
    "    # Implement frequency comparison logic here\n",
    "    # This can be complex depending on how the frequency is defined in your dataset.\n",
    "    # For a simple time dimension check:\n",
    "    if 'time' in var1.dimensions and 'time' in var2.dimensions:\n",
    "        time1 = var1['time'][:]\n",
    "        time2 = var2['time'][:]\n",
    "        # Compare the time intervals (diffs) here, this is a naive approach\n",
    "        return np.all(np.diff(time1) == np.diff(time2))\n",
    "    return True\n"
   ]
  },
  {
   "cell_type": "code",
   "execution_count": null,
   "metadata": {},
   "outputs": [],
   "source": [
    "matching_keys = {\n",
    "    'lon': 'longitude',\n",
    "    'lat': 'latitude',\n",
    "    'time': 'time',\n",
    "    #'2m_temperature': 't2m',\n",
    "    # Add the rest of your matching keys here\n",
    "}"
   ]
  },
  {
   "cell_type": "code",
   "execution_count": null,
   "metadata": {},
   "outputs": [],
   "source": [
    "# Compare the datasets\n",
    "for key1, key2 in matching_keys.items():\n",
    "    var1 = demo_input_nc[key1]\n",
    "    var2 = esri_input_nc[key2]\n",
    "    \n",
    "    # Check if formats (data type, dimensions) are the same\n",
    "    if var1.dtype == var2.dtype and compare_dimensions(var1, var2):\n",
    "        print(f\"Formats match for {key1} and {key2}\")\n",
    "    else:\n",
    "        print(f\"Formats do not match for {key1} and {key2}\")\n",
    "    \n",
    "    # Check if frequencies are the same\n",
    "    if compare_frequency(var1, var2):\n",
    "        print(f\"Frequencies match for {key1} and {key2}\")\n",
    "    else:\n",
    "        print(f\"Frequencies do not match for {key1} and {key2}\")"
   ]
  },
  {
   "cell_type": "code",
   "execution_count": null,
   "metadata": {},
   "outputs": [],
   "source": []
  },
  {
   "cell_type": "code",
   "execution_count": null,
   "metadata": {},
   "outputs": [],
   "source": [
    "\n",
    "# Function to get detailed differences between dimensions\n",
    "def dimension_details(var1, var2):\n",
    "    details = \"\"\n",
    "    if var1.dimensions != var2.dimensions:\n",
    "        details += f\"Dimension names differ: {var1.dimensions} vs {var2.dimensions}\\n\"\n",
    "    for dim in var1.dimensions:\n",
    "        if dim not in var2.dimensions or var1.shape[var1.dimensions.index(dim)] != var2.shape[var2.dimensions.index(dim)]:\n",
    "            details += f\"Dimension size for {dim} differs: {var1.shape[var1.dimensions.index(dim)]} vs {var2.shape[var2.dimensions.index(dim)] if dim in var2.dimensions else 'N/A'}\\n\"\n",
    "    return details\n",
    "\n",
    "# Function to get detailed differences in frequency\n",
    "def frequency_details(var1, var2):\n",
    "    # Implement specific frequency comparison logic here\n",
    "    # This is a placeholder and may need significant adaptation based on your dataset\n",
    "    details = \"\"\n",
    "    if 'time' in var1.dimensions and 'time' in var2.dimensions:\n",
    "        time1 = var1['time'][:]\n",
    "        time2 = var2['time'][:]\n",
    "        # Compare the time intervals (diffs) here, this is a naive approach\n",
    "        if not np.all(np.diff(time1) == np.diff(time2)):\n",
    "            details += f\"Time intervals differ. File 1 intervals: {np.diff(time1)}, File 2 intervals: {np.diff(time2)}\\n\"\n",
    "    return details"
   ]
  },
  {
   "cell_type": "code",
   "execution_count": null,
   "metadata": {},
   "outputs": [],
   "source": [
    "# Compare the datasets\n",
    "for key1, key2 in matching_keys.items():\n",
    "    var1 = demo_input_nc[key1]\n",
    "    var2 = esri_input_nc[key2]\n",
    "    \n",
    "    # Check differences\n",
    "    if var1.dtype != var2.dtype or not compare_dimensions(var1, var2) or not compare_frequency(var1, var2):\n",
    "        print(f\"Differences for {key1} (File 1) and {key2} (File 2):\")\n",
    "        if var1.dtype != var2.dtype:\n",
    "            print(f\"Data type differs: {var1.dtype} vs {var2.dtype}\")\n",
    "        dim_details = dimension_details(var1, var2)\n",
    "        if dim_details:\n",
    "            print(dim_details)\n",
    "        freq_details = frequency_details(var1, var2)\n",
    "        if freq_details:\n",
    "            print(freq_details)\n",
    "    else:\n",
    "        print(f\"No differences for {key1} and {key2}\")\n"
   ]
  }
 ],
 "metadata": {
  "kernelspec": {
   "display_name": "cdsapi",
   "language": "python",
   "name": "python3"
  },
  "language_info": {
   "codemirror_mode": {
    "name": "ipython",
    "version": 3
   },
   "file_extension": ".py",
   "mimetype": "text/x-python",
   "name": "python",
   "nbconvert_exporter": "python",
   "pygments_lexer": "ipython3",
   "version": "3.11.5"
  }
 },
 "nbformat": 4,
 "nbformat_minor": 2
}
