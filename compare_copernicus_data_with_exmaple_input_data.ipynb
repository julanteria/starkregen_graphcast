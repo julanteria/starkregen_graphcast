{
 "cells": [
  {
   "cell_type": "code",
   "execution_count": null,
   "metadata": {},
   "outputs": [],
   "source": [
    "import numpy as np\n",
    "import netCDF4 as nc\n"
   ]
  },
  {
   "cell_type": "code",
   "execution_count": null,
   "metadata": {},
   "outputs": [],
   "source": [
    "# Prediction input from grpahtcast demo \n",
    "demo_input_path = \"..\\/graphcast_data\\/demo\\/datasets\\/source-era5_date-2022-01-01_res-0.25_levels-37_steps-01.nc\"\n",
    "demo_input_nc = nc.Dataset(demo_input_path, 'r')"
   ]
  },
  {
   "cell_type": "code",
   "execution_count": null,
   "metadata": {},
   "outputs": [],
   "source": [
    "print(demo_input_nc.variables.keys())"
   ]
  },
  {
   "cell_type": "code",
   "execution_count": null,
   "metadata": {},
   "outputs": [],
   "source": [
    "lons_demo = demo_input_nc.variables['lon'][:]\n",
    "lats_demo = demo_input_nc.variables['lat'][:]\n",
    "time_demo = demo_input_nc.variables['time'][:]"
   ]
  },
  {
   "cell_type": "code",
   "execution_count": null,
   "metadata": {},
   "outputs": [],
   "source": []
  },
  {
   "cell_type": "code",
   "execution_count": null,
   "metadata": {},
   "outputs": [],
   "source": [
    "# Prediction input from ESRI cds api\n",
    "esri_input_path = \"..\\/graphcast_data\\/up_to_date_esri_csd_api\\/possible_esri_data_for_prediction.nc\"\n",
    "esri_input_nc = nc.Dataset(esri_input_path, 'r')"
   ]
  },
  {
   "cell_type": "code",
   "execution_count": null,
   "metadata": {},
   "outputs": [],
   "source": [
    "print(esri_input_nc.variables.keys())"
   ]
  },
  {
   "cell_type": "code",
   "execution_count": null,
   "metadata": {},
   "outputs": [],
   "source": [
    "lons_esri = esri_input_nc.variables['longitude'][:]\n",
    "lats_esri = esri_input_nc.variables['latitude'][:]\n",
    "time_esri = esri_input_nc.variables['time'][:]"
   ]
  }
 ],
 "metadata": {
  "kernelspec": {
   "display_name": "cdsapi",
   "language": "python",
   "name": "python3"
  },
  "language_info": {
   "codemirror_mode": {
    "name": "ipython",
    "version": 3
   },
   "file_extension": ".py",
   "mimetype": "text/x-python",
   "name": "python",
   "nbconvert_exporter": "python",
   "pygments_lexer": "ipython3",
   "version": "3.11.5"
  }
 },
 "nbformat": 4,
 "nbformat_minor": 2
}
