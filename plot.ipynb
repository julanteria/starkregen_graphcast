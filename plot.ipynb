{
 "cells": [
  {
   "cell_type": "code",
   "execution_count": 66,
   "metadata": {},
   "outputs": [],
   "source": [
    "import matplotlib.pyplot as plt\n",
    "import cartopy.crs as ccrs\n",
    "import numpy as np\n",
    "import netCDF4 as nc\n",
    "import geopandas as gpd\n",
    "\n",
    "import xarray\n",
    "\n",
    "import rasterio\n",
    "from rasterio.transform import from_origin\n",
    "import pandas as pd\n",
    "from scipy.interpolate import griddata"
   ]
  },
  {
   "cell_type": "markdown",
   "metadata": {},
   "source": [
    "## Prediction data\n"
   ]
  },
  {
   "cell_type": "code",
   "execution_count": null,
   "metadata": {},
   "outputs": [],
   "source": [
    "#read in the predicted dataset\n",
    "src = \"predicted_dataset.nc\"\n",
    "with open(src, \"rb\",) as f:\n",
    "    predicted_dataset = xarray.load_dataset(f).compute()"
   ]
  },
  {
   "cell_type": "code",
   "execution_count": null,
   "metadata": {},
   "outputs": [],
   "source": [
    "\n",
    "# Define latitude and longitude bounds for Germany\n",
    "lat_bounds = (47.5, 55.0)\n",
    "lon_bounds = (5.5, 15.0)\n",
    "\n",
    "# Select data for Germany\n",
    "germany_data = predicted_dataset.sel(lat=slice(*lat_bounds), lon=slice(*lon_bounds))\n",
    "#print(germany_data)\n",
    "# get total precipitation\n",
    "precipitation = germany_data.total_precipitation_6hr\n",
    "print(precipitation)\n",
    "\n",
    "\n",
    "\n"
   ]
  },
  {
   "cell_type": "code",
   "execution_count": null,
   "metadata": {},
   "outputs": [],
   "source": [
    "# to csv\n",
    "precipitation.to_dataframe().to_csv(\"precipitation.csv\")\n",
    "# only lat and lon and precipitation csv    \n",
    "germany_data.total_precipitation_6hr.sel(time=\"06:00:00\", batch=0).to_dataframe().to_csv(\"germany_data.csv\")"
   ]
  },
  {
   "cell_type": "code",
   "execution_count": 67,
   "metadata": {},
   "outputs": [],
   "source": [
    "# interpolate for arcgis online\n",
    "# WORKS\n",
    "\n",
    "# Angenommene Daten aus deinem xarray.DataArray\n",
    "lon = germany_data.lon.values\n",
    "lat = germany_data.lat.values\n",
    "precipitation_values = germany_data.total_precipitation_6hr.isel(time=0, batch=0).values\n",
    "\n",
    "# Erzeuge ein Gitter für die Interpolation\n",
    "lon_grid, lat_grid = np.meshgrid(np.linspace(lon.min(), lon.max(), 100), \n",
    "                                 np.linspace(lat.min(), lat.max(), 100))\n",
    "\n",
    "# Flache Arrays für griddata\n",
    "points = np.transpose([np.tile(lat, len(lon)), np.repeat(lon, len(lat))])\n",
    "values = precipitation_values.flatten()\n",
    "\n",
    "# Führe die Interpolation durch\n",
    "grid_z0 = griddata(points, values, (lat_grid, lon_grid), method='cubic')\n",
    "\n",
    "# Erstelle einen DataFrame mit den interpolierten Daten\n",
    "df_interp = pd.DataFrame({\n",
    "    'Latitude': lat_grid.flatten(),\n",
    "    'Longitude': lon_grid.flatten(),\n",
    "    'Precipitation': grid_z0.flatten()\n",
    "})\n",
    "\n",
    "# Entferne NaN-Werte, die außerhalb deiner ursprünglichen Datenpunkte entstehen könnten\n",
    "df_interp.dropna(inplace=True)\n",
    "\n",
    "# Exportiere die interpolierten Daten in eine CSV-Datei\n",
    "df_interp.to_csv(\"interpolated_precipitation.csv\", index=False)\n",
    "\n"
   ]
  },
  {
   "cell_type": "code",
   "execution_count": 65,
   "metadata": {},
   "outputs": [],
   "source": [
    "# make it for arcgis online for visualization\n",
    "# Erstelle ein Raster-Array basierend auf den Niederschlagsdaten\n",
    "precipitation = germany_data.total_precipitation_6hr.isel(time=0, batch=0)\n",
    "\n",
    "# Erstelle ein GeoTIFF\n",
    "transform = from_origin(5.5, 55.0, 0.25, 0.25) # Startpunkt (oben links), Pixelgröße in Lon/Lat\n",
    "with rasterio.open(\n",
    "    'precipitation_raster.tif', 'w', driver='GTiff',\n",
    "    height=precipitation.shape[0], width=precipitation.shape[1],\n",
    "    count=1, dtype=str(precipitation.dtype),\n",
    "    crs='+proj=latlong',  # Definiere das Koordinatenreferenzsystem\n",
    "    transform=transform,\n",
    ") as dst:\n",
    "    dst.write(precipitation.values, 1)"
   ]
  },
  {
   "cell_type": "code",
   "execution_count": null,
   "metadata": {},
   "outputs": [],
   "source": []
  },
  {
   "cell_type": "code",
   "execution_count": null,
   "metadata": {},
   "outputs": [],
   "source": [
    "print(len(lat_bounds))\n",
    "print(len(lon_bounds))"
   ]
  },
  {
   "cell_type": "code",
   "execution_count": null,
   "metadata": {},
   "outputs": [],
   "source": [
    "# plot the precipitation\n",
    "plt.figure(figsize=(10, 10))\n",
    "ax = plt.axes(projection=ccrs.PlateCarree())\n",
    "ax.coastlines()\n",
    "precipitation.plot(ax=ax, transform=ccrs.PlateCarree())\n",
    "plt.title(\"Total precipitation\")\n",
    "plt.show()\n"
   ]
  },
  {
   "cell_type": "code",
   "execution_count": null,
   "metadata": {},
   "outputs": [],
   "source": [
    "\n",
    "# Define the map projection and create a figure\n",
    "plt.figure(figsize=(10, 10))\n",
    "ax = plt.axes(projection=ccrs.PlateCarree())\n",
    "\n",
    "# Set the extent of the plot to slightly beyond the bounds of Germany for context\n",
    "# Here, we add/subtract a small value to the bounds to provide some padding around Germany\n",
    "margin = 10  # You can adjust the margin value to zoom in or out\n",
    "ax.set_extent([lon_bounds[0] - margin, lon_bounds[1] + margin, \n",
    "               lat_bounds[0] - margin, lat_bounds[1] + margin], crs=ccrs.PlateCarree())\n",
    "\n",
    "# Add coastlines for reference\n",
    "ax.coastlines()\n",
    "\n",
    "# Plot the precipitation data\n",
    "precipitation.plot(ax=ax, transform=ccrs.PlateCarree(), cmap='Blues')\n",
    "\n",
    "# Set the title and show the plot\n",
    "plt.title(\"Total Precipitation over Germany\")\n",
    "plt.show()\n"
   ]
  },
  {
   "cell_type": "code",
   "execution_count": null,
   "metadata": {},
   "outputs": [],
   "source": []
  },
  {
   "cell_type": "code",
   "execution_count": null,
   "metadata": {},
   "outputs": [],
   "source": [
    "\n",
    "\n",
    "# Load the shapefile for Germany\n",
    "germany_shapefile = gpd.read_file('/Users/jules/Downloads/Germany_shapefile/de_100km.shp')\n",
    "\n",
    "# Define the map projection and create a figure\n",
    "plt.figure(figsize=(10, 10))\n",
    "ax = plt.axes(projection=ccrs.PlateCarree())\n",
    "\n",
    "# Set the extent of the plot to slightly beyond the bounds of Germany for context\n",
    "margin = 10  # Adjust the margin value if necessary\n",
    "ax.set_extent([lon_bounds[0] - margin, lon_bounds[1] + margin, \n",
    "               lat_bounds[0] - margin, lat_bounds[1] + margin], crs=ccrs.PlateCarree())\n",
    "\n",
    "# Add coastlines for reference\n",
    "ax.coastlines()\n",
    "\n",
    "# Plot the outline of Germany using the shapefile\n",
    "germany_shapefile.plot(ax=ax, edgecolor='black', transform=ccrs.PlateCarree())\n",
    "\n",
    "# Plot the precipitation data\n",
    "precipitation.plot(ax=ax, transform=ccrs.PlateCarree(), cmap='Blues')\n",
    "\n",
    "# Set the title and show the plot\n",
    "plt.title(\"Total Precipitation over Germany\")\n",
    "plt.show()\n"
   ]
  },
  {
   "cell_type": "code",
   "execution_count": null,
   "metadata": {},
   "outputs": [],
   "source": []
  },
  {
   "cell_type": "markdown",
   "metadata": {},
   "source": [
    "## Input"
   ]
  },
  {
   "cell_type": "code",
   "execution_count": null,
   "metadata": {},
   "outputs": [],
   "source": [
    "precipitation"
   ]
  },
  {
   "cell_type": "code",
   "execution_count": null,
   "metadata": {},
   "outputs": [],
   "source": [
    "demo_perpipitation"
   ]
  },
  {
   "cell_type": "code",
   "execution_count": null,
   "metadata": {},
   "outputs": [],
   "source": [
    "demo_input_src = \"/Users/jules/Documents/github/starkregen_graphcast/data/datasets/source-era5_date-2022-01-01_res-0.25_levels-37_steps-01.nc\"\n",
    "# Define latitude and longitude bounds for Germany\n",
    "lat_bounds = (47.5, 55.0)\n",
    "lon_bounds = (5.5, 15.0)\n",
    "\n",
    "with open(demo_input_src, \"rb\",) as f:\n",
    "    demo_input_dataset = xarray.load_dataset(f).compute()\n",
    "\n",
    "demo_ger_perpipitation = demo_input_dataset.total_precipitation_6hr.sel(lat=slice(*lat_bounds), lon=slice(*lon_bounds)).sel(time=\"06:00:00\")"
   ]
  },
  {
   "cell_type": "code",
   "execution_count": null,
   "metadata": {},
   "outputs": [],
   "source": [
    "demo_ger_perpipitation_time = demo_input_dataset.time\n",
    "#print(demo_ger_perpipitation_time)\n",
    "\n",
    "demo_ger_perpipitation_time6 = demo_ger_perpipitation_time.sel(time=\"06:00:00\", method=\"nearest\")\n",
    "print(demo_ger_perpipitation_time6)"
   ]
  },
  {
   "cell_type": "code",
   "execution_count": null,
   "metadata": {},
   "outputs": [],
   "source": []
  },
  {
   "cell_type": "code",
   "execution_count": null,
   "metadata": {},
   "outputs": [],
   "source": [
    "#plot\n",
    "plt.figure(figsize=(10, 10))\n",
    "ax = plt.axes(projection=ccrs.PlateCarree())\n",
    "ax.coastlines()\n",
    "demo_ger_perpipitation.plot(ax=ax, transform=ccrs.PlateCarree())\n",
    "plt.title(\"Total precipitation\")"
   ]
  },
  {
   "cell_type": "code",
   "execution_count": null,
   "metadata": {},
   "outputs": [],
   "source": []
  },
  {
   "cell_type": "code",
   "execution_count": null,
   "metadata": {},
   "outputs": [],
   "source": []
  },
  {
   "cell_type": "code",
   "execution_count": null,
   "metadata": {},
   "outputs": [],
   "source": []
  },
  {
   "cell_type": "code",
   "execution_count": null,
   "metadata": {},
   "outputs": [],
   "source": []
  },
  {
   "cell_type": "code",
   "execution_count": null,
   "metadata": {},
   "outputs": [],
   "source": []
  },
  {
   "cell_type": "code",
   "execution_count": null,
   "metadata": {},
   "outputs": [],
   "source": []
  },
  {
   "cell_type": "code",
   "execution_count": null,
   "metadata": {},
   "outputs": [],
   "source": []
  },
  {
   "cell_type": "code",
   "execution_count": null,
   "metadata": {},
   "outputs": [],
   "source": [
    "# Prediction input from grpahtcast demo \n",
    "demo_input_path = \"/Users/jules/Documents/github/starkregen_graphcast/data/datasets/source-era5_date-2022-01-01_res-0.25_levels-37_steps-01.nc\"\n",
    "demo_input_nc = nc.Dataset(demo_input_path, 'r')\n",
    "lons_demo = demo_input_nc.variables['lon'][:]\n",
    "lats_demo = demo_input_nc.variables['lat'][:]\n",
    "time_demo = demo_input_nc.variables['time'][:]\n",
    "lsm_demo = demo_input_nc.variables['land_sea_mask'][:]\n",
    "t2m_demo = demo_input_nc.variables['2m_temperature'][:]\n",
    "msl_demo = demo_input_nc.variables['mean_sea_level_pressure'][:]\n",
    "tp_demo = demo_input_nc.variables['total_precipitation_6hr'][:]\n",
    "tisr_demo = demo_input_nc.variables['toa_incident_solar_radiation'][:]\n",
    "z_demo = demo_input_nc.variables['geopotential'][:]\n",
    "u10_demo = demo_input_nc.variables['10m_u_component_of_wind'][:]\n",
    "v10_demo = demo_input_nc.variables['10m_v_component_of_wind'][:]"
   ]
  },
  {
   "cell_type": "markdown",
   "metadata": {},
   "source": [
    "1. Geographical Map: Plotting Temperature (2m Temperature)"
   ]
  },
  {
   "cell_type": "code",
   "execution_count": null,
   "metadata": {},
   "outputs": [],
   "source": [
    "\n",
    "# Assuming lons_demo, lats_demo, and t2m_demo are loaded as described\n",
    "\n",
    "fig = plt.figure(figsize=(10, 5))\n",
    "ax = fig.add_subplot(1, 1, 1, projection=ccrs.PlateCarree())\n",
    "ax.coastlines()\n",
    "\n",
    "# Assuming t2m_demo is 2D (latitude x longitude), and you have a specific time index (e.g., 0)\n",
    "temperature = t2m_demo[0].squeeze()  # Adjust index for time step as needed and remove singleton dimension\n",
    "temperature_2d = temperature.reshape(lats_demo.shape)  # Reshape to 2D\n",
    "contour = ax.contourf(lons_demo, lats_demo, temperature_2d, transform=ccrs.PlateCarree(), cmap='coolwarm')\n",
    "\n",
    "plt.colorbar(contour, ax=ax, orientation='vertical')\n",
    "plt.title('2m Temperature')\n",
    "plt.show()"
   ]
  },
  {
   "cell_type": "code",
   "execution_count": null,
   "metadata": {},
   "outputs": [],
   "source": []
  },
  {
   "cell_type": "code",
   "execution_count": null,
   "metadata": {},
   "outputs": [],
   "source": []
  },
  {
   "cell_type": "code",
   "execution_count": null,
   "metadata": {},
   "outputs": [],
   "source": [
    "# Calculate global mean (simplistically, not accounting for area differences)\n",
    "global_mean_temp = np.mean(t2m_demo, axis=(1, 2))  # Assuming t2m_demo is (time, lat, lon)\n",
    "\n",
    "plt.figure(figsize=(10, 5))\n",
    "plt.plot(time_demo, global_mean_temp)\n",
    "plt.xlabel('Time')\n",
    "plt.ylabel('Global Mean Temperature')\n",
    "plt.title('Global Mean 2m Temperature Over Time')\n",
    "plt.show()"
   ]
  },
  {
   "cell_type": "code",
   "execution_count": null,
   "metadata": {},
   "outputs": [],
   "source": []
  },
  {
   "cell_type": "code",
   "execution_count": null,
   "metadata": {},
   "outputs": [],
   "source": []
  },
  {
   "cell_type": "code",
   "execution_count": null,
   "metadata": {},
   "outputs": [],
   "source": []
  },
  {
   "cell_type": "code",
   "execution_count": null,
   "metadata": {},
   "outputs": [],
   "source": [
    "# Flatten the temperature data for a specific time step to get its distribution\n",
    "temp_flat = tp_demo[0].flatten()  # Adjust index for time step as needed\n",
    "\n",
    "plt.figure(figsize=(10, 5))\n",
    "plt.hist(temp_flat, bins=10, color='blue', edgecolor='black')\n",
    "plt.title('Distribution of 2m Temperature')\n",
    "plt.xlabel('Temperature')\n",
    "plt.ylabel('Frequency')\n",
    "plt.show()\n"
   ]
  },
  {
   "cell_type": "code",
   "execution_count": null,
   "metadata": {},
   "outputs": [],
   "source": []
  },
  {
   "cell_type": "code",
   "execution_count": null,
   "metadata": {},
   "outputs": [],
   "source": [
    "\n",
    "# Extract variables and compute mean values for the first time step\n",
    "t2m_mean = np.mean(demo_input_nc.variables['2m_temperature'][0, :, :])\n",
    "msl_mean = np.mean(demo_input_nc.variables['mean_sea_level_pressure'][0, :, :])\n",
    "tp_mean = np.mean(demo_input_nc.variables['total_precipitation_6hr'][0, :, :])\n",
    "u10_mean = np.mean(demo_input_nc.variables['10m_u_component_of_wind'][0, :, :])\n",
    "\n",
    "# Close the dataset\n",
    "demo_input_nc.close()\n",
    "\n",
    "# Prepare data for radar chart\n",
    "labels = np.array(['2m Temp', 'MSL Pressure', 'Precipitation', 'Wind Speed'])\n",
    "stats = np.array([t2m_mean, msl_mean, tp_mean, u10_mean])\n",
    "\n",
    "# Radar chart setup\n",
    "angles = np.linspace(0, 2 * np.pi, len(labels), endpoint=False).tolist()\n",
    "stats = np.concatenate((stats,[stats[0]]))  # Create a closed loop\n",
    "angles += angles[:1]  # Complete the circle for the radar chart\n",
    "\n",
    "fig, ax = plt.subplots(figsize=(6, 6), subplot_kw=dict(polar=True))\n",
    "ax.fill(angles, stats, color='red', alpha=0.25)\n",
    "ax.plot(angles, stats, color='red', linewidth=2)  # Draw the outline of our data\n",
    "ax.set_yticklabels([])\n",
    "ax.set_xticks(angles[:-1])\n",
    "ax.set_xticklabels(labels)\n",
    "\n",
    "plt.title('Climate Variables Overview')\n",
    "plt.show()\n"
   ]
  }
 ],
 "metadata": {
  "kernelspec": {
   "display_name": "graphcast_metal",
   "language": "python",
   "name": "python3"
  },
  "language_info": {
   "codemirror_mode": {
    "name": "ipython",
    "version": 3
   },
   "file_extension": ".py",
   "mimetype": "text/x-python",
   "name": "python",
   "nbconvert_exporter": "python",
   "pygments_lexer": "ipython3",
   "version": "3.11.5"
  }
 },
 "nbformat": 4,
 "nbformat_minor": 2
}
