{
 "cells": [
  {
   "cell_type": "code",
   "execution_count": null,
   "metadata": {},
   "outputs": [],
   "source": [
    "import matplotlib.pyplot as plt\n",
    "import cartopy.crs as ccrs\n",
    "import numpy as np\n",
    "import netCDF4 as nc\n",
    "\n"
   ]
  },
  {
   "cell_type": "code",
   "execution_count": null,
   "metadata": {},
   "outputs": [],
   "source": [
    "# Prediction input from grpahtcast demo \n",
    "demo_input_path = \"\"\n",
    "demo_input_nc = nc.Dataset(demo_input_path, 'r')\n",
    "lons_demo = demo_input_nc.variables['lon'][:]\n",
    "lats_demo = demo_input_nc.variables['lat'][:]\n",
    "time_demo = demo_input_nc.variables['time'][:]\n",
    "lsm_demo = demo_input_nc.variables['land_sea_mask'][:]\n",
    "t2m_demo = demo_input_nc.variables['2m_temperature'][:]\n",
    "msl_demo = demo_input_nc.variables['mean_sea_level_pressure'][:]\n",
    "tp_demo = demo_input_nc.variables['total_precipitation_6hr'][:]\n",
    "tisr_demo = demo_input_nc.variables['toa_incident_solar_radiation'][:]\n",
    "z_demo = demo_input_nc.variables['geopotential'][:]\n",
    "u10_demo = demo_input_nc.variables['10m_u_component_of_wind'][:]\n",
    "v10_demo = demo_input_nc.variables['10m_v_component_of_wind'][:]"
   ]
  },
  {
   "cell_type": "code",
   "execution_count": null,
   "metadata": {},
   "outputs": [],
   "source": []
  },
  {
   "cell_type": "markdown",
   "metadata": {},
   "source": [
    "1. Geographical Map: Plotting Temperature (2m Temperature)"
   ]
  },
  {
   "cell_type": "code",
   "execution_count": null,
   "metadata": {},
   "outputs": [],
   "source": [
    "\n",
    "# Assuming lons_demo, lats_demo, and t2m_demo are loaded as described\n",
    "\n",
    "fig = plt.figure(figsize=(10, 5))\n",
    "ax = fig.add_subplot(1, 1, 1, projection=ccrs.PlateCarree())\n",
    "ax.coastlines()\n",
    "\n",
    "# Assuming t2m_demo is 2D (latitude x longitude), and you have a specific time index (e.g., 0)\n",
    "temperature = t2m_demo[0].squeeze()  # Adjust index for time step as needed and remove singleton dimension\n",
    "temperature_2d = temperature.reshape(lats_demo.shape)  # Reshape to 2D\n",
    "contour = ax.contourf(lons_demo, lats_demo, temperature_2d, transform=ccrs.PlateCarree(), cmap='coolwarm')\n",
    "\n",
    "plt.colorbar(contour, ax=ax, orientation='vertical')\n",
    "plt.title('2m Temperature')\n",
    "plt.show()"
   ]
  },
  {
   "cell_type": "code",
   "execution_count": null,
   "metadata": {},
   "outputs": [],
   "source": []
  },
  {
   "cell_type": "code",
   "execution_count": null,
   "metadata": {},
   "outputs": [],
   "source": []
  },
  {
   "cell_type": "code",
   "execution_count": null,
   "metadata": {},
   "outputs": [],
   "source": [
    "# Calculate global mean (simplistically, not accounting for area differences)\n",
    "global_mean_temp = np.mean(t2m_demo, axis=(1, 2))  # Assuming t2m_demo is (time, lat, lon)\n",
    "\n",
    "plt.figure(figsize=(10, 5))\n",
    "plt.plot(time_demo, global_mean_temp)\n",
    "plt.xlabel('Time')\n",
    "plt.ylabel('Global Mean Temperature')\n",
    "plt.title('Global Mean 2m Temperature Over Time')\n",
    "plt.show()"
   ]
  },
  {
   "cell_type": "code",
   "execution_count": null,
   "metadata": {},
   "outputs": [],
   "source": []
  },
  {
   "cell_type": "code",
   "execution_count": null,
   "metadata": {},
   "outputs": [],
   "source": []
  },
  {
   "cell_type": "code",
   "execution_count": null,
   "metadata": {},
   "outputs": [],
   "source": []
  },
  {
   "cell_type": "code",
   "execution_count": null,
   "metadata": {},
   "outputs": [],
   "source": [
    "# Flatten the temperature data for a specific time step to get its distribution\n",
    "temp_flat = tp_demo[0].flatten()  # Adjust index for time step as needed\n",
    "\n",
    "plt.figure(figsize=(10, 5))\n",
    "plt.hist(temp_flat, bins=10, color='blue', edgecolor='black')\n",
    "plt.title('Distribution of 2m Temperature')\n",
    "plt.xlabel('Temperature')\n",
    "plt.ylabel('Frequency')\n",
    "plt.show()\n"
   ]
  },
  {
   "cell_type": "code",
   "execution_count": null,
   "metadata": {},
   "outputs": [],
   "source": []
  },
  {
   "cell_type": "code",
   "execution_count": null,
   "metadata": {},
   "outputs": [],
   "source": [
    "\n",
    "# Extract variables and compute mean values for the first time step\n",
    "t2m_mean = np.mean(demo_input_nc.variables['2m_temperature'][0, :, :])\n",
    "msl_mean = np.mean(demo_input_nc.variables['mean_sea_level_pressure'][0, :, :])\n",
    "tp_mean = np.mean(demo_input_nc.variables['total_precipitation_6hr'][0, :, :])\n",
    "u10_mean = np.mean(demo_input_nc.variables['10m_u_component_of_wind'][0, :, :])\n",
    "\n",
    "# Close the dataset\n",
    "demo_input_nc.close()\n",
    "\n",
    "# Prepare data for radar chart\n",
    "labels = np.array(['2m Temp', 'MSL Pressure', 'Precipitation', 'Wind Speed'])\n",
    "stats = np.array([t2m_mean, msl_mean, tp_mean, u10_mean])\n",
    "\n",
    "# Radar chart setup\n",
    "angles = np.linspace(0, 2 * np.pi, len(labels), endpoint=False).tolist()\n",
    "stats = np.concatenate((stats,[stats[0]]))  # Create a closed loop\n",
    "angles += angles[:1]  # Complete the circle for the radar chart\n",
    "\n",
    "fig, ax = plt.subplots(figsize=(6, 6), subplot_kw=dict(polar=True))\n",
    "ax.fill(angles, stats, color='red', alpha=0.25)\n",
    "ax.plot(angles, stats, color='red', linewidth=2)  # Draw the outline of our data\n",
    "ax.set_yticklabels([])\n",
    "ax.set_xticks(angles[:-1])\n",
    "ax.set_xticklabels(labels)\n",
    "\n",
    "plt.title('Climate Variables Overview')\n",
    "plt.show()\n"
   ]
  }
 ],
 "metadata": {
  "kernelspec": {
   "display_name": "graphcast_metal",
   "language": "python",
   "name": "python3"
  },
  "language_info": {
   "codemirror_mode": {
    "name": "ipython",
    "version": 3
   },
   "file_extension": ".py",
   "mimetype": "text/x-python",
   "name": "python",
   "nbconvert_exporter": "python",
   "pygments_lexer": "ipython3",
   "version": "3.11.5"
  }
 },
 "nbformat": 4,
 "nbformat_minor": 2
}
