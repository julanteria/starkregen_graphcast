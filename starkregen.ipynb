{
 "cells": [
  {
   "cell_type": "code",
   "execution_count": null,
   "metadata": {},
   "outputs": [],
   "source": [
    "import xarray\n",
    "\n",
    "import matplotlib.pyplot as plt\n",
    "import numpy as np\n"
   ]
  },
  {
   "cell_type": "code",
   "execution_count": null,
   "metadata": {},
   "outputs": [],
   "source": []
  },
  {
   "cell_type": "code",
   "execution_count": null,
   "metadata": {},
   "outputs": [],
   "source": [
    "# checl the data from 2020 to 2023\n",
    "\n",
    "data_tp_20_to_23 = xarray.open_dataset('/Users/jules/Documents/data/era5_total_percipitation_2020-2023/era5_total_percipitation_2020-2023.nc')"
   ]
  },
  {
   "cell_type": "code",
   "execution_count": null,
   "metadata": {},
   "outputs": [],
   "source": [
    "data_tp_20_to_23.time"
   ]
  },
  {
   "cell_type": "code",
   "execution_count": null,
   "metadata": {},
   "outputs": [],
   "source": [
    "# get data from 2020 only\n",
    "data_tp_2020 = data_tp_20_to_23.sel(time=slice('2020-01-01', '2020-12-31'))"
   ]
  },
  {
   "cell_type": "code",
   "execution_count": null,
   "metadata": {},
   "outputs": [],
   "source": [
    "data_tp_2020.latitude"
   ]
  },
  {
   "cell_type": "code",
   "execution_count": null,
   "metadata": {},
   "outputs": [],
   "source": [
    "# filter to only halle an der saale lats and lons\n",
    "data_tp_2020_halle = data_tp_2020.sel(latitude=51.48, longitude=12.0, method='nearest')\n",
    "data_tp_20_to_23_halle = data_tp_20_to_23.sel(latitude=51.48, longitude=12.0, method='nearest')"
   ]
  },
  {
   "cell_type": "code",
   "execution_count": null,
   "metadata": {},
   "outputs": [],
   "source": [
    "# pick expver=1\n",
    "data_tp_2020_halle = data_tp_2020_halle.sel(expver=1)\n",
    "data_tp_20_to_23_halle = data_tp_20_to_23_halle.sel(expver=1)"
   ]
  },
  {
   "cell_type": "code",
   "execution_count": null,
   "metadata": {},
   "outputs": [],
   "source": [
    "# get the max value and corresponding time\n",
    "max_value = data_tp_20_to_23_halle.tp.max()\n",
    "print(max_value.values)\n",
    "print(data_tp_20_to_23_halle.time[data_tp_20_to_23_halle.tp.argmax()].values)"
   ]
  },
  {
   "cell_type": "code",
   "execution_count": null,
   "metadata": {},
   "outputs": [],
   "source": []
  },
  {
   "cell_type": "markdown",
   "metadata": {},
   "source": [
    "# 2020-23"
   ]
  },
  {
   "cell_type": "code",
   "execution_count": null,
   "metadata": {},
   "outputs": [],
   "source": [
    "plt.plot(data_tp_20_to_23_halle.time, data_tp_20_to_23_halle.tp)\n",
    "plt.xlabel('Time')\n",
    "plt.ylabel('Total Precipitation (m)')\n",
    "# legend\n",
    "plt.legend(['Total Precipitation'])"
   ]
  },
  {
   "cell_type": "code",
   "execution_count": null,
   "metadata": {},
   "outputs": [],
   "source": []
  },
  {
   "cell_type": "markdown",
   "metadata": {},
   "source": [
    "# 2020"
   ]
  },
  {
   "cell_type": "code",
   "execution_count": null,
   "metadata": {},
   "outputs": [],
   "source": [
    "# plot total precipitation vs time\n",
    "\n",
    "plt.plot(data_tp_2020_halle.time, data_tp_2020_halle.tp)\n",
    "plt.xlabel('Time')\n",
    "plt.ylabel('Total Precipitation (m)')\n",
    "# legend\n",
    "plt.legend(['Total Precipitation'])"
   ]
  },
  {
   "cell_type": "code",
   "execution_count": null,
   "metadata": {},
   "outputs": [],
   "source": [
    "# get only may to july\n",
    "data_tp_2020_halle_july = data_tp_2020_halle.sel(time=slice('2020-06-10', '2020-06-16'))\n",
    "plt.plot(data_tp_2020_halle_july.time, data_tp_2020_halle_july.tp)\n",
    "# x axis tick vertical\n",
    "plt.xticks(rotation=90)"
   ]
  },
  {
   "cell_type": "code",
   "execution_count": null,
   "metadata": {},
   "outputs": [],
   "source": [
    "#data_tp_2020_halle_july = data_tp_2020_halle.sel(time=slice('2020-06-13', '2020-06-15'))\n",
    "# slice 13_06 in hours\n",
    "data_tp_2020_halle_july = data_tp_2020_halle.sel(time=slice('2020-06-12T23:00:00', '2020-06-13T20:00:00'))\n",
    "plt.plot(data_tp_2020_halle_july.time, data_tp_2020_halle_july.tp)\n",
    "# x axis tick vertical\n",
    "plt.xticks(rotation=90)\n",
    "\n",
    "# => input 13.06 bis 12:00 "
   ]
  },
  {
   "cell_type": "code",
   "execution_count": null,
   "metadata": {},
   "outputs": [],
   "source": [
    "# 14.6.2020 it is\n",
    "# hoher niederschlag in esri daten und online\n",
    "# https://www.wetterkontor.de/de/wetter/deutschland/rueckblick.asp?id=S713&datum0=18.05.2020&datum1=14.06.2020&jr=2024&mo=2&datum=20.06.2020&t=4&part=2"
   ]
  },
  {
   "cell_type": "code",
   "execution_count": null,
   "metadata": {},
   "outputs": [],
   "source": [
    "data_tp_13_06_3_steps = xarray.open_dataset('/Users/jules/Documents/github/starkregen_graphcast/possible_3_steps_predictions_13_06.nc')\n",
    "\n",
    "\n",
    "# sel the data for halle\n",
    "data_tp_13_06_3_steps_halle = data_tp_13_06_3_steps.sel(lat=51.48, lon=12.0, method='nearest')"
   ]
  },
  {
   "cell_type": "code",
   "execution_count": null,
   "metadata": {},
   "outputs": [],
   "source": [
    "print(data_tp_13_06_3_steps_halle.time)"
   ]
  },
  {
   "cell_type": "code",
   "execution_count": null,
   "metadata": {},
   "outputs": [],
   "source": [
    "total_precipitation_13_06 = data_tp_13_06_3_steps_halle.total_precipitation_6hr"
   ]
  },
  {
   "cell_type": "code",
   "execution_count": null,
   "metadata": {},
   "outputs": [],
   "source": [
    "print(total_precipitation_13_06)"
   ]
  },
  {
   "cell_type": "code",
   "execution_count": null,
   "metadata": {},
   "outputs": [],
   "source": [
    "print(total_precipitation_13_06.values)"
   ]
  },
  {
   "cell_type": "code",
   "execution_count": null,
   "metadata": {},
   "outputs": [],
   "source": [
    "total_precipitation_13_06[1].values"
   ]
  },
  {
   "cell_type": "code",
   "execution_count": null,
   "metadata": {},
   "outputs": [],
   "source": [
    "input_0 = data_tp_2020_halle.sel(time='2020-06-13T00:00:00', method='nearest')\n",
    "input_6 = data_tp_2020_halle.sel(time='2020-06-13T06:00:00', method='nearest')\n",
    "input_12 = data_tp_2020_halle.sel(time='2020-06-13T12:00:00', method='nearest')\n",
    "\n",
    "input_18 = data_tp_2020_halle.sel(time='2020-06-13T18:00:00', method='nearest')\n",
    "input_24 = data_tp_2020_halle.sel(time='2020-06-14T00:00:00', method='nearest')\n",
    "input_30 = data_tp_2020_halle.sel(time='2020-06-14T06:00:00', method='nearest')"
   ]
  },
  {
   "cell_type": "code",
   "execution_count": null,
   "metadata": {},
   "outputs": [],
   "source": []
  },
  {
   "cell_type": "code",
   "execution_count": null,
   "metadata": {},
   "outputs": [],
   "source": []
  },
  {
   "cell_type": "code",
   "execution_count": null,
   "metadata": {},
   "outputs": [],
   "source": []
  },
  {
   "cell_type": "code",
   "execution_count": null,
   "metadata": {},
   "outputs": [],
   "source": []
  },
  {
   "cell_type": "code",
   "execution_count": null,
   "metadata": {},
   "outputs": [],
   "source": []
  },
  {
   "cell_type": "code",
   "execution_count": null,
   "metadata": {},
   "outputs": [],
   "source": []
  },
  {
   "cell_type": "code",
   "execution_count": null,
   "metadata": {},
   "outputs": [],
   "source": [
    "time = [\"0:00\", \"06:00\", \"12:00\", \"+6h\", \"+12h\", \"+18h\"]\n",
    "input = [input_0.tp.values.item(), input_6.tp.values.item(), input_12.tp.values.item()]\n",
    "pred = [total_precipitation_13_06[0].values[0], total_precipitation_13_06[1].values[0], total_precipitation_13_06[2].values[0]]\n",
    "input2 = [input_18.tp.values.item(), input_24.tp.values.item(), input_30.tp.values.item()]\n",
    "values_input = input + input2\n",
    "\n",
    "\n",
    "values_pred = input + pred\n",
    "\n",
    "# plot values_input and values_pred in different colors\n",
    "plt.plot(time, values_input, 'r')\n",
    "plt.plot(time, values_pred, 'b')\n",
    "plt.xlabel('Time')\n",
    "plt.ylabel('Total Precipitation (m)')\n",
    "# legend\n",
    "plt.legend(['Input', 'Prediction'])"
   ]
  },
  {
   "cell_type": "code",
   "execution_count": null,
   "metadata": {},
   "outputs": [],
   "source": [
    "\n",
    "plt.plot(time, values_input, 'r')\n",
    "\n",
    "# axis \n",
    "plt.title('Input data 13.06.2020')\n",
    "plt.xlabel('Time')\n",
    "plt.ylabel('Total Precipitation (m)')\n",
    "\n",
    "\n"
   ]
  },
  {
   "cell_type": "code",
   "execution_count": null,
   "metadata": {},
   "outputs": [],
   "source": [
    "\n",
    "plt.plot(time, values_pred)\n",
    "\n",
    "# axis \n",
    "plt.title('Prediction data 13.06.2020')\n",
    "plt.xlabel('Time')\n",
    "plt.ylabel('Total Precipitation (m)')"
   ]
  }
 ],
 "metadata": {
  "kernelspec": {
   "display_name": "base",
   "language": "python",
   "name": "python3"
  },
  "language_info": {
   "codemirror_mode": {
    "name": "ipython",
    "version": 3
   },
   "file_extension": ".py",
   "mimetype": "text/x-python",
   "name": "python",
   "nbconvert_exporter": "python",
   "pygments_lexer": "ipython3",
   "version": "3.11.5"
  }
 },
 "nbformat": 4,
 "nbformat_minor": 2
}
